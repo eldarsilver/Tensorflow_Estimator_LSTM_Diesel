{
 "cells": [
  {
   "cell_type": "markdown",
   "metadata": {},
   "source": [
    "### Introducción\n",
    "El objetivo de este notebook es demostrar una aproximación al análisis de series temporales mediante el uso del framework para Deep Learning **tensorflow** y sus APIs ya estables: `Dataset` y `Estimator` que parecen establecer un estándar dentro del propio framework para abordar problemas de aprendizaje supervisado en general."
   ]
  },
  {
   "cell_type": "markdown",
   "metadata": {},
   "source": [
    "### Requisitos\n",
    "El presente notebook se ha desarrollado con,\n",
    "* Python 3.5\n",
    "* numpy 1.14.0\n",
    "* matplotlib 2.1.1\n",
    "* pandas 0.22.0\n",
    "* tensorflow 1.4"
   ]
  },
  {
   "cell_type": "markdown",
   "metadata": {},
   "source": [
    "### Dataset\n",
    "El dataset sobre el cual se trabajará consta de varios ficheros. A continuación se describirán los utilizados,\n",
    "* **all.txt**, contiene datos para cada hora sobre los precios de distintos tipos de combustibles medidos en 10233 gasolineras de toda España. Cada registro contiene además datos propios de cada gasolinera (grupo al que pertenece, dirección, horario...). Contiene además la variable target: *precio_sig* que es el precio del diesel en la siguiente hora. Para cada gasolinera se proporciona una serie temporal de como máximo 641 registros (ó lo que es lo mismo 641 horas≈27 días). Es un fichero de giga y medio de tamaño con lo que manejarlo en local es posible pero pesado. Se proporciona un versión reducida para el estudio previo de los datos **all_lite.txt**\n",
    "* **change.txt**, contiene el histórico del precio de cierre diario para el tipo de cambio EUR/USD.\n",
    "* **brent.txt**, contiene el histórico de distintos parámetros diarios de mercado relativos al barril de petróleo Brent (por ejemplo precio de apertura, máximo, mínimo, de cierre...)"
   ]
  },
  {
   "cell_type": "markdown",
   "metadata": {},
   "source": [
    "### Preparando el entorno de trabajo\n",
    "Dentro del directorio en el que se deposite este notebook,\n",
    "* Se creará la carpeta `datasets`.\n",
    "* Dentro de la carpeta `datasets` se creará la carpeta `diesel`.\n",
    "* Dentro de la carpeta `diesel` se depositará `all.txt.gz`, `change.txt` y `brent.txt`."
   ]
  },
  {
   "cell_type": "markdown",
   "metadata": {},
   "source": [
    "### Manos a la obra\n",
    "Vamos a preparar una pequeña función (`fetch_data`) para descomprimir y volcar el contenido en un fichero que luego podamos manejar.\n",
    "Para ello utilizaremos algunas librerías que nos serán de utilidad como `gzip` y `os`"
   ]
  },
  {
   "cell_type": "code",
   "execution_count": 65,
   "metadata": {},
   "outputs": [],
   "source": [
    "import gzip\n",
    "import os"
   ]
  },
  {
   "cell_type": "code",
   "execution_count": 66,
   "metadata": {},
   "outputs": [],
   "source": [
    "# gzipped all.txt\n",
    "PRECIO_DIESEL_FILENAME=\"all.txt.gz\"\n",
    "# parent directory\n",
    "DATASET_DIR=\"C:\\\\Cursos\\\\DeepLearning_TF-master\\\\datasets\\\\\"\n",
    "# this dataset directory\n",
    "PRECIO_DIESEL_DATASET_DIR=\"diesel\""
   ]
  },
  {
   "cell_type": "code",
   "execution_count": 67,
   "metadata": {},
   "outputs": [],
   "source": [
    "def fetch_data(data_path, data_filename):\n",
    "    \"\"\"\n",
    "    Function that receives a path and a gzipped file name\n",
    "    and opens it to dump its content into a new file whose\n",
    "    name will be the same as the original gzipped file but with \n",
    "    the compression extension stripped.\n",
    "    Args:\n",
    "        - data_path: path of the gzipped file.\n",
    "        - data_filename: name of the gzipped file.\n",
    "    Returns:\n",
    "        - ugz_path: the absolute path of the gzipped file\n",
    "    \n",
    "    \n",
    "    \"\"\"\n",
    "    if not os.path.isdir(data_path):\n",
    "        print(data_path,\"does not exist, it will be created...\")\n",
    "        os.makedirs(data_path)\n",
    "        print(data_path,\"created!\")\n",
    "        print(\"Be sure \"+data_filename+\" is in the path!\")\n",
    "    gz_path = os.path.join(data_path, data_filename)\n",
    "    try:\n",
    "        with gzip.open(gz_path, 'rb') as f:\n",
    "            gzip_content = f.read()\n",
    "            f.close()\n",
    "        print(gz_path)\n",
    "    except FileNotFoundError:\n",
    "        print(\"File not found!\")\n",
    "            \n",
    "    \n",
    "    ugz_path_list = gz_path.split('.')[:-1]\n",
    "    ugz_path = '.'.join(ugz_path_list)\n",
    "    \n",
    "    with open(ugz_path, 'wb') as u:\n",
    "        u.write(gzip_content)\n",
    "        u.close()\n",
    "           \n",
    "    print(\"Ungzipped to \"+ugz_path)\n",
    "    print(\"Complete!\")    \n",
    "    \n",
    "    return ugz_path"
   ]
  },
  {
   "cell_type": "code",
   "execution_count": 68,
   "metadata": {},
   "outputs": [
    {
     "name": "stdout",
     "output_type": "stream",
     "text": [
      "C:\\Cursos\\DeepLearning_TF-master\\datasets\\diesel\\all.txt.gz\n",
      "Ungzipped to C:\\Cursos\\DeepLearning_TF-master\\datasets\\diesel\\all.txt\n",
      "Complete!\n"
     ]
    }
   ],
   "source": [
    "precios_diesel_txt = fetch_data(DATASET_DIR+PRECIO_DIESEL_DATASET_DIR, PRECIO_DIESEL_FILENAME)"
   ]
  },
  {
   "cell_type": "markdown",
   "metadata": {},
   "source": [
    "Ya es momento de cargar el fichero en un dataframe de `pandas` y su método `read_csv`. Aquí tenemos dos opciones:\n",
    "* Dejar que Python infiera el `dtypes` esto se conseguiría no especificando este parámetro al método `read_csv`. Es más cómodo pero a cambio Python considerará todos aquellos tipos de dato numéricos como `float64` y aquellos que no sean estrictamente numéricos como `object` lo que se traducirá en una mayor consumo de RAM.\n",
    "* Explorar previamente la versión lite del fichero a cargar para estudiar los valores entre los que se mueve cada campo, segúramente no todos ellos precisen de un tipo `float64` y para otros el tipo `object` no es el más óptimo. Una vez hecho el estudio, especificaremos mediante el campo `dtype` un diccionario con el tipo a utilizar para cargar cada campo."
   ]
  },
  {
   "cell_type": "code",
   "execution_count": 69,
   "metadata": {},
   "outputs": [],
   "source": [
    "import numpy as np\n",
    "import pandas as pd"
   ]
  },
  {
   "cell_type": "code",
   "execution_count": 70,
   "metadata": {},
   "outputs": [],
   "source": [
    "precios_diesel_df = pd.read_csv(filepath_or_buffer=precios_diesel_txt,\\\n",
    "                                    dtype={\"ideess\":np.int16,\"hora\":np.uint8,\"remision\":\"category\",\"precio\":np.float16,\\\n",
    "                                           \"precio_premium\":np.float16,\"precio_gasolina_95\":np.float16,\"precio_ant\":np.float16,\\\n",
    "                                           \"precio_sig\":np.float16,\"diff_premium\":np.float16,\"diff_ant\":np.float16,\\\n",
    "                                           \"ind_cambio\":np.float16,\"ind_diff\":np.float16,\"ind_diff_sig\":np.float16,\"diff_sig\":np.float16,\\\n",
    "                                           \"grupo\":\"category\",\"ind_24h\":\"category\",\"codpos\":np.uint16,\"idccaa\":np.uint8,\"idmunicipio\":np.uint16,\\\n",
    "                                           \"idprovincia\":np.uint8,\"latitud\":np.float16,\"longitud\":np.float16,\"margen\":\"category\",\\\n",
    "                                           \"ind_intradia\":\"category\",\"max_cambios\":np.float16,\"min_cambios\":np.float16,\"avg_cambios\":np.float16},\\\n",
    "                                    sep='|', \n",
    "                                    parse_dates=['dia','fecha'],\n",
    "                                    infer_datetime_format=True)"
   ]
  },
  {
   "cell_type": "markdown",
   "metadata": {},
   "source": [
    "Vamos a hacer el estudio con los precios de una sola gasolinera, recordemos que queremos utilizar series temporales entonces no podemos seleccionar todas las gasolineras ya que el periodo de tiempo que cubren es similar, nos centraremos pues en una. Se escoge por ejemplo aquella cuya *ideess* es *4094*, porque se tiene constancia de que la serie temporal para ella comprende el máximo de registros recogidos por estación: 641"
   ]
  },
  {
   "cell_type": "code",
   "execution_count": 71,
   "metadata": {},
   "outputs": [],
   "source": [
    "ideess = 4094\n",
    "precios_diesel_df_series = precios_diesel_df[precios_diesel_df[\"ideess\"] == ideess].sort_values(by=\"fecha\", ascending=True)"
   ]
  },
  {
   "cell_type": "markdown",
   "metadata": {},
   "source": [
    "Vemos como los registros han sido ordenados de menor a mayor de manera que el más antiguo empieza el 20 de diciembre de 2017 a las 14 horas."
   ]
  },
  {
   "cell_type": "code",
   "execution_count": 72,
   "metadata": {},
   "outputs": [
    {
     "data": {
      "text/html": [
       "<div>\n",
       "<style scoped>\n",
       "    .dataframe tbody tr th:only-of-type {\n",
       "        vertical-align: middle;\n",
       "    }\n",
       "\n",
       "    .dataframe tbody tr th {\n",
       "        vertical-align: top;\n",
       "    }\n",
       "\n",
       "    .dataframe thead th {\n",
       "        text-align: right;\n",
       "    }\n",
       "</style>\n",
       "<table border=\"1\" class=\"dataframe\">\n",
       "  <thead>\n",
       "    <tr style=\"text-align: right;\">\n",
       "      <th></th>\n",
       "      <th>ideess</th>\n",
       "      <th>dia</th>\n",
       "      <th>hora</th>\n",
       "      <th>rotulo</th>\n",
       "      <th>horario</th>\n",
       "      <th>remision</th>\n",
       "      <th>precio</th>\n",
       "      <th>precio_premium</th>\n",
       "      <th>precio_gasolina_95</th>\n",
       "      <th>precio_ant</th>\n",
       "      <th>...</th>\n",
       "      <th>provincia</th>\n",
       "      <th>localidad</th>\n",
       "      <th>latitud</th>\n",
       "      <th>longitud</th>\n",
       "      <th>margen</th>\n",
       "      <th>municipio</th>\n",
       "      <th>ind_intradia</th>\n",
       "      <th>max_cambios</th>\n",
       "      <th>min_cambios</th>\n",
       "      <th>avg_cambios</th>\n",
       "    </tr>\n",
       "  </thead>\n",
       "  <tbody>\n",
       "    <tr>\n",
       "      <th>3718567</th>\n",
       "      <td>4094</td>\n",
       "      <td>2017-12-20</td>\n",
       "      <td>14</td>\n",
       "      <td>REPSOL</td>\n",
       "      <td>L-D: 24H</td>\n",
       "      <td>OM</td>\n",
       "      <td>1.189453</td>\n",
       "      <td>1.239258</td>\n",
       "      <td>1.289062</td>\n",
       "      <td>NaN</td>\n",
       "      <td>...</td>\n",
       "      <td>VALENCIA / VALÈNCIA</td>\n",
       "      <td>CAUDETE DE LAS FUENTES</td>\n",
       "      <td>39.53125</td>\n",
       "      <td>-1.311523</td>\n",
       "      <td>D</td>\n",
       "      <td>Caudete de las Fuentes</td>\n",
       "      <td>0</td>\n",
       "      <td>1.0</td>\n",
       "      <td>0.0</td>\n",
       "      <td>0.0</td>\n",
       "    </tr>\n",
       "    <tr>\n",
       "      <th>3718568</th>\n",
       "      <td>4094</td>\n",
       "      <td>2017-12-20</td>\n",
       "      <td>15</td>\n",
       "      <td>REPSOL</td>\n",
       "      <td>L-D: 24H</td>\n",
       "      <td>OM</td>\n",
       "      <td>1.189453</td>\n",
       "      <td>1.239258</td>\n",
       "      <td>1.289062</td>\n",
       "      <td>1.189453</td>\n",
       "      <td>...</td>\n",
       "      <td>VALENCIA / VALÈNCIA</td>\n",
       "      <td>CAUDETE DE LAS FUENTES</td>\n",
       "      <td>39.53125</td>\n",
       "      <td>-1.311523</td>\n",
       "      <td>D</td>\n",
       "      <td>Caudete de las Fuentes</td>\n",
       "      <td>0</td>\n",
       "      <td>1.0</td>\n",
       "      <td>0.0</td>\n",
       "      <td>0.0</td>\n",
       "    </tr>\n",
       "    <tr>\n",
       "      <th>3718569</th>\n",
       "      <td>4094</td>\n",
       "      <td>2017-12-20</td>\n",
       "      <td>16</td>\n",
       "      <td>REPSOL</td>\n",
       "      <td>L-D: 24H</td>\n",
       "      <td>OM</td>\n",
       "      <td>1.189453</td>\n",
       "      <td>1.239258</td>\n",
       "      <td>1.289062</td>\n",
       "      <td>1.189453</td>\n",
       "      <td>...</td>\n",
       "      <td>VALENCIA / VALÈNCIA</td>\n",
       "      <td>CAUDETE DE LAS FUENTES</td>\n",
       "      <td>39.53125</td>\n",
       "      <td>-1.311523</td>\n",
       "      <td>D</td>\n",
       "      <td>Caudete de las Fuentes</td>\n",
       "      <td>0</td>\n",
       "      <td>1.0</td>\n",
       "      <td>0.0</td>\n",
       "      <td>0.0</td>\n",
       "    </tr>\n",
       "  </tbody>\n",
       "</table>\n",
       "<p>3 rows × 37 columns</p>\n",
       "</div>"
      ],
      "text/plain": [
       "         ideess        dia  hora  rotulo   horario remision    precio  \\\n",
       "3718567    4094 2017-12-20    14  REPSOL  L-D: 24H       OM  1.189453   \n",
       "3718568    4094 2017-12-20    15  REPSOL  L-D: 24H       OM  1.189453   \n",
       "3718569    4094 2017-12-20    16  REPSOL  L-D: 24H       OM  1.189453   \n",
       "\n",
       "         precio_premium  precio_gasolina_95  precio_ant     ...      \\\n",
       "3718567        1.239258            1.289062         NaN     ...       \n",
       "3718568        1.239258            1.289062    1.189453     ...       \n",
       "3718569        1.239258            1.289062    1.189453     ...       \n",
       "\n",
       "                   provincia               localidad   latitud  longitud  \\\n",
       "3718567  VALENCIA / VALÈNCIA  CAUDETE DE LAS FUENTES  39.53125 -1.311523   \n",
       "3718568  VALENCIA / VALÈNCIA  CAUDETE DE LAS FUENTES  39.53125 -1.311523   \n",
       "3718569  VALENCIA / VALÈNCIA  CAUDETE DE LAS FUENTES  39.53125 -1.311523   \n",
       "\n",
       "         margen               municipio  ind_intradia  max_cambios  \\\n",
       "3718567       D  Caudete de las Fuentes             0          1.0   \n",
       "3718568       D  Caudete de las Fuentes             0          1.0   \n",
       "3718569       D  Caudete de las Fuentes             0          1.0   \n",
       "\n",
       "        min_cambios avg_cambios  \n",
       "3718567         0.0         0.0  \n",
       "3718568         0.0         0.0  \n",
       "3718569         0.0         0.0  \n",
       "\n",
       "[3 rows x 37 columns]"
      ]
     },
     "execution_count": 72,
     "metadata": {},
     "output_type": "execute_result"
    }
   ],
   "source": [
    "precios_diesel_df_series.head(n=3)"
   ]
  },
  {
   "cell_type": "markdown",
   "metadata": {},
   "source": [
    "Siempre es bueno visualizar aquellas features numéricas, de manera que podamos hacernos una idea de como se mueven a lo largo del tiempo."
   ]
  },
  {
   "cell_type": "code",
   "execution_count": 73,
   "metadata": {},
   "outputs": [],
   "source": [
    "%matplotlib inline\n",
    "from matplotlib import pyplot as plt"
   ]
  },
  {
   "cell_type": "code",
   "execution_count": 74,
   "metadata": {},
   "outputs": [
    {
     "data": {
      "image/png": "[encoded data removed]",
      "text/plain": [
       "<matplotlib.figure.Figure at 0x250803ac400>"
      ]
     },
     "metadata": {},
     "output_type": "display_data"
    }
   ],
   "source": [
    "columns = [\"precio\",\"precio_premium\",\"precio_gasolina_95\",\"precio_ant\",\"precio_sig\"]\n",
    "\n",
    "plt.figure()\n",
    "for idx,col in enumerate(columns):\n",
    "    plt.subplot(len(columns),1,idx+1)\n",
    "    plt.plot(precios_diesel_df_series[col].values)\n",
    "    plt.title(col, y=0.6, loc='left')\n",
    "    plt.xlabel(\"tiempo (horas)\")\n",
    "plt.show()"
   ]
  },
  {
   "cell_type": "markdown",
   "metadata": {},
   "source": [
    "Después de ejecutar un pandas profiling sobre el dataset y dado que lo que se va a tener en cuenta para el análisis de series temporales son datos que varian en el tiempo. Realizamos un primer descarte de features:"
   ]
  },
  {
   "cell_type": "code",
   "execution_count": 75,
   "metadata": {},
   "outputs": [],
   "source": [
    "drop_list = ['ccaa','codpos','diff_ant','diff_sig','direccion','fecha','grupo',\\\n",
    "             'horario','idccaa','ideess','idmunicipio','idprovincia','ind_cambio',\\\n",
    "             'ind_cambio_sig','ind_intradia','latitud','localidad','longitud','margen',\\\n",
    "             'max_cambios','min_cambios','municipio','precio_ant','provincia','remision','rotulo']\n",
    "\n",
    "precios_diesel_df_series = precios_diesel_df_series.drop(columns=drop_list,inplace=False)"
   ]
  },
  {
   "cell_type": "code",
   "execution_count": 76,
   "metadata": {},
   "outputs": [],
   "source": [
    "precios_diesel_df_series = precios_diesel_df_series[[c for c in precios_diesel_df_series if c not in ['precio_sig']] + ['precio_sig']]"
   ]
  },
  {
   "cell_type": "markdown",
   "metadata": {},
   "source": [
    "### Tipo de cambio EUR/USD\n",
    "Es el momento de cargar en un dataframe de `pandas` el fichero de tipos de cambio."
   ]
  },
  {
   "cell_type": "code",
   "execution_count": 77,
   "metadata": {},
   "outputs": [],
   "source": [
    "PRECIO_EURUSD_FILENAME=\"C:\\\\Cursos\\\\DeepLearning_TF-master\\\\datasets\\\\diesel\\\\change.txt\""
   ]
  },
  {
   "cell_type": "code",
   "execution_count": 78,
   "metadata": {},
   "outputs": [],
   "source": [
    "precios_eurusd_df = pd.read_csv(filepath_or_buffer=PRECIO_EURUSD_FILENAME,\\\n",
    "                                dtype={\"eur_usd\":np.float32},\\\n",
    "                                sep='|',\\\n",
    "                                parse_dates=['fecha'],\\\n",
    "                                infer_datetime_format=True)"
   ]
  },
  {
   "cell_type": "markdown",
   "metadata": {},
   "source": [
    "Hay que tener en cuenta que los precios del fichero all.txt son diarios, incluyendo fines de semana y festivos. Entonces si queremos emparejar cada uno de los días disponibles con el correspondiente tipo de cambio, tendremos que cerciorarnos de proveer precio todos los días para este último. Para ello vamos a rellenar los huecos ocasionados por fines de semana y festivos repitiendo el último precio disponible (por ejemplo tomando el precio del viernes y aplicándolo al sábado y domingo siguientes). Esto es lo que se conoce como **resample**"
   ]
  },
  {
   "cell_type": "code",
   "execution_count": 79,
   "metadata": {},
   "outputs": [],
   "source": [
    "# The date feature is set as the dataframe index to enable resampling.\n",
    "precios_eurusd_df[\"fecha\"] = pd.to_datetime(precios_eurusd_df[\"fecha\"],format=\"%Y/%m/%d\")\n",
    "precios_eurusd_df = precios_eurusd_df.sort_values([\"fecha\"], ascending=[True])\n",
    "precios_eurusd_df.set_index(\"fecha\",inplace=True)"
   ]
  },
  {
   "cell_type": "code",
   "execution_count": 80,
   "metadata": {},
   "outputs": [
    {
     "data": {
      "text/html": [
       "<div>\n",
       "<style scoped>\n",
       "    .dataframe tbody tr th:only-of-type {\n",
       "        vertical-align: middle;\n",
       "    }\n",
       "\n",
       "    .dataframe tbody tr th {\n",
       "        vertical-align: top;\n",
       "    }\n",
       "\n",
       "    .dataframe thead th {\n",
       "        text-align: right;\n",
       "    }\n",
       "</style>\n",
       "<table border=\"1\" class=\"dataframe\">\n",
       "  <thead>\n",
       "    <tr style=\"text-align: right;\">\n",
       "      <th></th>\n",
       "      <th>eur_usd</th>\n",
       "    </tr>\n",
       "    <tr>\n",
       "      <th>fecha</th>\n",
       "      <th></th>\n",
       "    </tr>\n",
       "  </thead>\n",
       "  <tbody>\n",
       "    <tr>\n",
       "      <th>2017-01-29</th>\n",
       "      <td>1.0717</td>\n",
       "    </tr>\n",
       "    <tr>\n",
       "      <th>2017-01-30</th>\n",
       "      <td>1.0708</td>\n",
       "    </tr>\n",
       "    <tr>\n",
       "      <th>2017-01-31</th>\n",
       "      <td>1.0801</td>\n",
       "    </tr>\n",
       "  </tbody>\n",
       "</table>\n",
       "</div>"
      ],
      "text/plain": [
       "            eur_usd\n",
       "fecha              \n",
       "2017-01-29   1.0717\n",
       "2017-01-30   1.0708\n",
       "2017-01-31   1.0801"
      ]
     },
     "execution_count": 80,
     "metadata": {},
     "output_type": "execute_result"
    }
   ],
   "source": [
    "# Now the dataframe is indexed by date\n",
    "precios_eurusd_df.head(n=3)"
   ]
  },
  {
   "cell_type": "code",
   "execution_count": 81,
   "metadata": {},
   "outputs": [],
   "source": [
    "# Time to resample, D value indicates that resampling will be done at day level (there \n",
    "# is a wide choice of rules to apply here) however we are OK with a plain daily basis\n",
    "# We also get rid of the index once the sampling is done.\n",
    "precios_eurusd_df = precios_eurusd_df.resample(\"D\").ffill().reset_index()"
   ]
  },
  {
   "cell_type": "code",
   "execution_count": 82,
   "metadata": {},
   "outputs": [
    {
     "data": {
      "text/html": [
       "<div>\n",
       "<style scoped>\n",
       "    .dataframe tbody tr th:only-of-type {\n",
       "        vertical-align: middle;\n",
       "    }\n",
       "\n",
       "    .dataframe tbody tr th {\n",
       "        vertical-align: top;\n",
       "    }\n",
       "\n",
       "    .dataframe thead th {\n",
       "        text-align: right;\n",
       "    }\n",
       "</style>\n",
       "<table border=\"1\" class=\"dataframe\">\n",
       "  <thead>\n",
       "    <tr style=\"text-align: right;\">\n",
       "      <th></th>\n",
       "      <th>fecha</th>\n",
       "      <th>eur_usd</th>\n",
       "    </tr>\n",
       "  </thead>\n",
       "  <tbody>\n",
       "    <tr>\n",
       "      <th>352</th>\n",
       "      <td>2018-01-16</td>\n",
       "      <td>1.2271</td>\n",
       "    </tr>\n",
       "    <tr>\n",
       "      <th>353</th>\n",
       "      <td>2018-01-17</td>\n",
       "      <td>1.2180</td>\n",
       "    </tr>\n",
       "    <tr>\n",
       "      <th>354</th>\n",
       "      <td>2018-01-18</td>\n",
       "      <td>1.2234</td>\n",
       "    </tr>\n",
       "    <tr>\n",
       "      <th>355</th>\n",
       "      <td>2018-01-19</td>\n",
       "      <td>1.2223</td>\n",
       "    </tr>\n",
       "    <tr>\n",
       "      <th>356</th>\n",
       "      <td>2018-01-20</td>\n",
       "      <td>1.2223</td>\n",
       "    </tr>\n",
       "    <tr>\n",
       "      <th>357</th>\n",
       "      <td>2018-01-21</td>\n",
       "      <td>1.2256</td>\n",
       "    </tr>\n",
       "    <tr>\n",
       "      <th>358</th>\n",
       "      <td>2018-01-22</td>\n",
       "      <td>1.2256</td>\n",
       "    </tr>\n",
       "    <tr>\n",
       "      <th>359</th>\n",
       "      <td>2018-01-23</td>\n",
       "      <td>1.2309</td>\n",
       "    </tr>\n",
       "    <tr>\n",
       "      <th>360</th>\n",
       "      <td>2018-01-24</td>\n",
       "      <td>1.2393</td>\n",
       "    </tr>\n",
       "    <tr>\n",
       "      <th>361</th>\n",
       "      <td>2018-01-25</td>\n",
       "      <td>1.2392</td>\n",
       "    </tr>\n",
       "  </tbody>\n",
       "</table>\n",
       "</div>"
      ],
      "text/plain": [
       "         fecha  eur_usd\n",
       "352 2018-01-16   1.2271\n",
       "353 2018-01-17   1.2180\n",
       "354 2018-01-18   1.2234\n",
       "355 2018-01-19   1.2223\n",
       "356 2018-01-20   1.2223\n",
       "357 2018-01-21   1.2256\n",
       "358 2018-01-22   1.2256\n",
       "359 2018-01-23   1.2309\n",
       "360 2018-01-24   1.2393\n",
       "361 2018-01-25   1.2392"
      ]
     },
     "execution_count": 82,
     "metadata": {},
     "output_type": "execute_result"
    }
   ],
   "source": [
    "# The gaps have been filled\n",
    "precios_eurusd_df.tail(10)"
   ]
  },
  {
   "cell_type": "markdown",
   "metadata": {},
   "source": [
    "Si vamos a incluir el tipo de cambio en nuestro dataset cargado de all.txt, hemos de tener en cuenta que a la hora de hacer una predicción sobre el precio de la hora siguiente tendremos que incluir también la feature tipo de cambio, la única manera de poder hacer esto es considerar para cada día de all.txt el tipo de cambio del día anterior: es decir el día 17 de enero sabemos seguro cual fue el tipo cambio final para el día 16 de enero.\n",
    "Por ello vamos a crear una nueva feature en el dataset del tipo de cambio que indique que la fecha en la que aplicaremos cada tipo de cambio, será un día después de la fecha de cierre del mismo."
   ]
  },
  {
   "cell_type": "code",
   "execution_count": 83,
   "metadata": {},
   "outputs": [],
   "source": [
    "precios_eurusd_df[\"fecha_join\"] = precios_eurusd_df[\"fecha\"] + pd.to_timedelta(1,unit=\"d\")"
   ]
  },
  {
   "cell_type": "code",
   "execution_count": 84,
   "metadata": {},
   "outputs": [
    {
     "data": {
      "text/html": [
       "<div>\n",
       "<style scoped>\n",
       "    .dataframe tbody tr th:only-of-type {\n",
       "        vertical-align: middle;\n",
       "    }\n",
       "\n",
       "    .dataframe tbody tr th {\n",
       "        vertical-align: top;\n",
       "    }\n",
       "\n",
       "    .dataframe thead th {\n",
       "        text-align: right;\n",
       "    }\n",
       "</style>\n",
       "<table border=\"1\" class=\"dataframe\">\n",
       "  <thead>\n",
       "    <tr style=\"text-align: right;\">\n",
       "      <th></th>\n",
       "      <th>fecha</th>\n",
       "      <th>eur_usd</th>\n",
       "      <th>fecha_join</th>\n",
       "    </tr>\n",
       "  </thead>\n",
       "  <tbody>\n",
       "    <tr>\n",
       "      <th>359</th>\n",
       "      <td>2018-01-23</td>\n",
       "      <td>1.2309</td>\n",
       "      <td>2018-01-24</td>\n",
       "    </tr>\n",
       "    <tr>\n",
       "      <th>360</th>\n",
       "      <td>2018-01-24</td>\n",
       "      <td>1.2393</td>\n",
       "      <td>2018-01-25</td>\n",
       "    </tr>\n",
       "    <tr>\n",
       "      <th>361</th>\n",
       "      <td>2018-01-25</td>\n",
       "      <td>1.2392</td>\n",
       "      <td>2018-01-26</td>\n",
       "    </tr>\n",
       "  </tbody>\n",
       "</table>\n",
       "</div>"
      ],
      "text/plain": [
       "         fecha  eur_usd fecha_join\n",
       "359 2018-01-23   1.2309 2018-01-24\n",
       "360 2018-01-24   1.2393 2018-01-25\n",
       "361 2018-01-25   1.2392 2018-01-26"
      ]
     },
     "execution_count": 84,
     "metadata": {},
     "output_type": "execute_result"
    }
   ],
   "source": [
    "# Now we have the effective date for each fx close price but also the date\n",
    "# when it will be used in our all.txt dataset.\n",
    "precios_eurusd_df.tail(3)"
   ]
  },
  {
   "cell_type": "markdown",
   "metadata": {},
   "source": [
    "### Precios barril de Brent\n",
    "Ahora cargaremos en un dataframe de `pandas` el histórico de precios del barril de Brent. El procedimiento será prácticamente idéntico al seguido con el tipo de cambio, con la diferencia de que para el barril de Brent disponemos de más features."
   ]
  },
  {
   "cell_type": "code",
   "execution_count": 85,
   "metadata": {},
   "outputs": [],
   "source": [
    "PRECIO_BRENT_FILENAME=\"C:\\\\Cursos\\\\DeepLearning_TF-master\\\\datasets\\\\diesel\\\\brent.txt\""
   ]
  },
  {
   "cell_type": "markdown",
   "metadata": {},
   "source": [
    "De nuevo, le damos ya los dtype a Python de manera que no tenga que inferirlos. Préviamente a esto hemos revisado el pandas profiling para poder adecuar los dtype a cada feature."
   ]
  },
  {
   "cell_type": "code",
   "execution_count": 86,
   "metadata": {},
   "outputs": [],
   "source": [
    "precios_brent_df = pd.read_csv(filepath_or_buffer=PRECIO_BRENT_FILENAME,\\\n",
    "                                    dtype={\"open\":np.float16,\"high\":np.float16,\"low\":np.float16,\"settle\":np.float16,\\\n",
    "                                           \"change\":np.float16,\"wave\":np.float16,\"volume\":np.float32,\\\n",
    "                                           \"prev_day_open_interest\":np.float32,\"efp_volume\":np.float32,\"efs_volume\":np.float16,\\\n",
    "                                           \"block_volume\":np.float16},\\\n",
    "                                    sep='|',\\\n",
    "                                    parse_dates=['fecha'],\\\n",
    "                                    infer_datetime_format=True)"
   ]
  },
  {
   "cell_type": "markdown",
   "metadata": {},
   "source": [
    "Formateamos y establecemos la fecha como índice del dataframe de manera que posteriormente podamos efectuar un resampling de forma similar a como se hizo en el caso del fichero de tipos de cambio."
   ]
  },
  {
   "cell_type": "code",
   "execution_count": 87,
   "metadata": {},
   "outputs": [],
   "source": [
    "precios_brent_df[\"fecha\"] = pd.to_datetime(precios_brent_df[\"fecha\"], format=\"%Y/%m/%d\")\n",
    "precios_brent_df = precios_brent_df.sort_values(by=[\"fecha\"], ascending=[True])\n",
    "precios_brent_df.set_index(\"fecha\", inplace=True)"
   ]
  },
  {
   "cell_type": "code",
   "execution_count": 88,
   "metadata": {},
   "outputs": [
    {
     "data": {
      "text/html": [
       "<div>\n",
       "<style scoped>\n",
       "    .dataframe tbody tr th:only-of-type {\n",
       "        vertical-align: middle;\n",
       "    }\n",
       "\n",
       "    .dataframe tbody tr th {\n",
       "        vertical-align: top;\n",
       "    }\n",
       "\n",
       "    .dataframe thead th {\n",
       "        text-align: right;\n",
       "    }\n",
       "</style>\n",
       "<table border=\"1\" class=\"dataframe\">\n",
       "  <thead>\n",
       "    <tr style=\"text-align: right;\">\n",
       "      <th></th>\n",
       "      <th>open</th>\n",
       "      <th>high</th>\n",
       "      <th>low</th>\n",
       "      <th>settle</th>\n",
       "      <th>change</th>\n",
       "      <th>wave</th>\n",
       "      <th>volume</th>\n",
       "      <th>prev_day_open_interest</th>\n",
       "      <th>efp_volume</th>\n",
       "      <th>efs_volume</th>\n",
       "      <th>block_volume</th>\n",
       "    </tr>\n",
       "    <tr>\n",
       "      <th>fecha</th>\n",
       "      <th></th>\n",
       "      <th></th>\n",
       "      <th></th>\n",
       "      <th></th>\n",
       "      <th></th>\n",
       "      <th></th>\n",
       "      <th></th>\n",
       "      <th></th>\n",
       "      <th></th>\n",
       "      <th></th>\n",
       "      <th></th>\n",
       "    </tr>\n",
       "  </thead>\n",
       "  <tbody>\n",
       "    <tr>\n",
       "      <th>1993-03-17</th>\n",
       "      <td>18.796875</td>\n",
       "      <td>18.796875</td>\n",
       "      <td>18.796875</td>\n",
       "      <td>18.796875</td>\n",
       "      <td>NaN</td>\n",
       "      <td>NaN</td>\n",
       "      <td>0.0</td>\n",
       "      <td>0.0</td>\n",
       "      <td>NaN</td>\n",
       "      <td>NaN</td>\n",
       "      <td>NaN</td>\n",
       "    </tr>\n",
       "    <tr>\n",
       "      <th>1993-03-18</th>\n",
       "      <td>18.875000</td>\n",
       "      <td>18.875000</td>\n",
       "      <td>18.875000</td>\n",
       "      <td>18.875000</td>\n",
       "      <td>NaN</td>\n",
       "      <td>NaN</td>\n",
       "      <td>0.0</td>\n",
       "      <td>0.0</td>\n",
       "      <td>NaN</td>\n",
       "      <td>NaN</td>\n",
       "      <td>NaN</td>\n",
       "    </tr>\n",
       "    <tr>\n",
       "      <th>1993-03-19</th>\n",
       "      <td>18.890625</td>\n",
       "      <td>18.890625</td>\n",
       "      <td>18.890625</td>\n",
       "      <td>18.890625</td>\n",
       "      <td>NaN</td>\n",
       "      <td>NaN</td>\n",
       "      <td>0.0</td>\n",
       "      <td>0.0</td>\n",
       "      <td>NaN</td>\n",
       "      <td>NaN</td>\n",
       "      <td>NaN</td>\n",
       "    </tr>\n",
       "    <tr>\n",
       "      <th>1993-03-22</th>\n",
       "      <td>18.500000</td>\n",
       "      <td>18.500000</td>\n",
       "      <td>18.500000</td>\n",
       "      <td>18.500000</td>\n",
       "      <td>NaN</td>\n",
       "      <td>NaN</td>\n",
       "      <td>0.0</td>\n",
       "      <td>0.0</td>\n",
       "      <td>NaN</td>\n",
       "      <td>NaN</td>\n",
       "      <td>NaN</td>\n",
       "    </tr>\n",
       "    <tr>\n",
       "      <th>1993-03-23</th>\n",
       "      <td>18.609375</td>\n",
       "      <td>18.609375</td>\n",
       "      <td>18.609375</td>\n",
       "      <td>18.609375</td>\n",
       "      <td>NaN</td>\n",
       "      <td>NaN</td>\n",
       "      <td>0.0</td>\n",
       "      <td>0.0</td>\n",
       "      <td>NaN</td>\n",
       "      <td>NaN</td>\n",
       "      <td>NaN</td>\n",
       "    </tr>\n",
       "  </tbody>\n",
       "</table>\n",
       "</div>"
      ],
      "text/plain": [
       "                 open       high        low     settle  change  wave  volume  \\\n",
       "fecha                                                                          \n",
       "1993-03-17  18.796875  18.796875  18.796875  18.796875     NaN   NaN     0.0   \n",
       "1993-03-18  18.875000  18.875000  18.875000  18.875000     NaN   NaN     0.0   \n",
       "1993-03-19  18.890625  18.890625  18.890625  18.890625     NaN   NaN     0.0   \n",
       "1993-03-22  18.500000  18.500000  18.500000  18.500000     NaN   NaN     0.0   \n",
       "1993-03-23  18.609375  18.609375  18.609375  18.609375     NaN   NaN     0.0   \n",
       "\n",
       "            prev_day_open_interest  efp_volume  efs_volume  block_volume  \n",
       "fecha                                                                     \n",
       "1993-03-17                     0.0         NaN         NaN           NaN  \n",
       "1993-03-18                     0.0         NaN         NaN           NaN  \n",
       "1993-03-19                     0.0         NaN         NaN           NaN  \n",
       "1993-03-22                     0.0         NaN         NaN           NaN  \n",
       "1993-03-23                     0.0         NaN         NaN           NaN  "
      ]
     },
     "execution_count": 88,
     "metadata": {},
     "output_type": "execute_result"
    }
   ],
   "source": [
    "precios_brent_df.head()"
   ]
  },
  {
   "cell_type": "code",
   "execution_count": 89,
   "metadata": {},
   "outputs": [],
   "source": [
    "precios_brent_df = precios_brent_df.resample('D').ffill().reset_index()"
   ]
  },
  {
   "cell_type": "code",
   "execution_count": 90,
   "metadata": {},
   "outputs": [
    {
     "data": {
      "text/html": [
       "<div>\n",
       "<style scoped>\n",
       "    .dataframe tbody tr th:only-of-type {\n",
       "        vertical-align: middle;\n",
       "    }\n",
       "\n",
       "    .dataframe tbody tr th {\n",
       "        vertical-align: top;\n",
       "    }\n",
       "\n",
       "    .dataframe thead th {\n",
       "        text-align: right;\n",
       "    }\n",
       "</style>\n",
       "<table border=\"1\" class=\"dataframe\">\n",
       "  <thead>\n",
       "    <tr style=\"text-align: right;\">\n",
       "      <th></th>\n",
       "      <th>fecha</th>\n",
       "      <th>open</th>\n",
       "      <th>high</th>\n",
       "      <th>low</th>\n",
       "      <th>settle</th>\n",
       "      <th>change</th>\n",
       "      <th>wave</th>\n",
       "      <th>volume</th>\n",
       "      <th>prev_day_open_interest</th>\n",
       "      <th>efp_volume</th>\n",
       "      <th>efs_volume</th>\n",
       "      <th>block_volume</th>\n",
       "    </tr>\n",
       "  </thead>\n",
       "  <tbody>\n",
       "    <tr>\n",
       "      <th>0</th>\n",
       "      <td>1993-03-17</td>\n",
       "      <td>18.796875</td>\n",
       "      <td>18.796875</td>\n",
       "      <td>18.796875</td>\n",
       "      <td>18.796875</td>\n",
       "      <td>NaN</td>\n",
       "      <td>NaN</td>\n",
       "      <td>0.0</td>\n",
       "      <td>0.0</td>\n",
       "      <td>NaN</td>\n",
       "      <td>NaN</td>\n",
       "      <td>NaN</td>\n",
       "    </tr>\n",
       "    <tr>\n",
       "      <th>1</th>\n",
       "      <td>1993-03-18</td>\n",
       "      <td>18.875000</td>\n",
       "      <td>18.875000</td>\n",
       "      <td>18.875000</td>\n",
       "      <td>18.875000</td>\n",
       "      <td>NaN</td>\n",
       "      <td>NaN</td>\n",
       "      <td>0.0</td>\n",
       "      <td>0.0</td>\n",
       "      <td>NaN</td>\n",
       "      <td>NaN</td>\n",
       "      <td>NaN</td>\n",
       "    </tr>\n",
       "    <tr>\n",
       "      <th>2</th>\n",
       "      <td>1993-03-19</td>\n",
       "      <td>18.890625</td>\n",
       "      <td>18.890625</td>\n",
       "      <td>18.890625</td>\n",
       "      <td>18.890625</td>\n",
       "      <td>NaN</td>\n",
       "      <td>NaN</td>\n",
       "      <td>0.0</td>\n",
       "      <td>0.0</td>\n",
       "      <td>NaN</td>\n",
       "      <td>NaN</td>\n",
       "      <td>NaN</td>\n",
       "    </tr>\n",
       "    <tr>\n",
       "      <th>3</th>\n",
       "      <td>1993-03-20</td>\n",
       "      <td>18.890625</td>\n",
       "      <td>18.890625</td>\n",
       "      <td>18.890625</td>\n",
       "      <td>18.890625</td>\n",
       "      <td>NaN</td>\n",
       "      <td>NaN</td>\n",
       "      <td>0.0</td>\n",
       "      <td>0.0</td>\n",
       "      <td>NaN</td>\n",
       "      <td>NaN</td>\n",
       "      <td>NaN</td>\n",
       "    </tr>\n",
       "    <tr>\n",
       "      <th>4</th>\n",
       "      <td>1993-03-21</td>\n",
       "      <td>18.890625</td>\n",
       "      <td>18.890625</td>\n",
       "      <td>18.890625</td>\n",
       "      <td>18.890625</td>\n",
       "      <td>NaN</td>\n",
       "      <td>NaN</td>\n",
       "      <td>0.0</td>\n",
       "      <td>0.0</td>\n",
       "      <td>NaN</td>\n",
       "      <td>NaN</td>\n",
       "      <td>NaN</td>\n",
       "    </tr>\n",
       "  </tbody>\n",
       "</table>\n",
       "</div>"
      ],
      "text/plain": [
       "       fecha       open       high        low     settle  change  wave  \\\n",
       "0 1993-03-17  18.796875  18.796875  18.796875  18.796875     NaN   NaN   \n",
       "1 1993-03-18  18.875000  18.875000  18.875000  18.875000     NaN   NaN   \n",
       "2 1993-03-19  18.890625  18.890625  18.890625  18.890625     NaN   NaN   \n",
       "3 1993-03-20  18.890625  18.890625  18.890625  18.890625     NaN   NaN   \n",
       "4 1993-03-21  18.890625  18.890625  18.890625  18.890625     NaN   NaN   \n",
       "\n",
       "   volume  prev_day_open_interest  efp_volume  efs_volume  block_volume  \n",
       "0     0.0                     0.0         NaN         NaN           NaN  \n",
       "1     0.0                     0.0         NaN         NaN           NaN  \n",
       "2     0.0                     0.0         NaN         NaN           NaN  \n",
       "3     0.0                     0.0         NaN         NaN           NaN  \n",
       "4     0.0                     0.0         NaN         NaN           NaN  "
      ]
     },
     "execution_count": 90,
     "metadata": {},
     "output_type": "execute_result"
    }
   ],
   "source": [
    "# Check the resampling\n",
    "precios_brent_df.head()"
   ]
  },
  {
   "cell_type": "markdown",
   "metadata": {},
   "source": [
    "Ahora obtendremos la fecha en la que asociaremos cada precio del barril Brent a su correspondiente registro en all.txt"
   ]
  },
  {
   "cell_type": "code",
   "execution_count": 91,
   "metadata": {},
   "outputs": [],
   "source": [
    "precios_brent_df[\"fecha_join\"] = precios_brent_df[\"fecha\"] + pd.to_timedelta(1, unit='d')"
   ]
  },
  {
   "cell_type": "markdown",
   "metadata": {},
   "source": [
    "### Fusionando (merge) los dataframe `precios_diesel_df_series`, `precios_eurusd_df` y `precios_brent_df`\n",
    "Ahora es cuando uniremos los tres dataframe en base a los ajustes de fecha que hemos hecho en `precios_eurusd_df` y `precios_brent_df` apoyándonos en las features `fecha_join` que hemos ido creando con la fecha que utilizaremos para unir ambos dataframes con `precios_diesel_df_series`."
   ]
  },
  {
   "cell_type": "code",
   "execution_count": 92,
   "metadata": {},
   "outputs": [],
   "source": [
    "# First we'll join precios_diesel_df_series with precios_brent_df\n",
    "precios_diesel_brent_df = precios_diesel_df_series.merge(right=precios_brent_df, how='left', left_on=[\"dia\"], right_on=[\"fecha_join\"])"
   ]
  },
  {
   "cell_type": "code",
   "execution_count": 93,
   "metadata": {},
   "outputs": [
    {
     "data": {
      "text/html": [
       "<div>\n",
       "<style scoped>\n",
       "    .dataframe tbody tr th:only-of-type {\n",
       "        vertical-align: middle;\n",
       "    }\n",
       "\n",
       "    .dataframe tbody tr th {\n",
       "        vertical-align: top;\n",
       "    }\n",
       "\n",
       "    .dataframe thead th {\n",
       "        text-align: right;\n",
       "    }\n",
       "</style>\n",
       "<table border=\"1\" class=\"dataframe\">\n",
       "  <thead>\n",
       "    <tr style=\"text-align: right;\">\n",
       "      <th></th>\n",
       "      <th>dia</th>\n",
       "      <th>hora</th>\n",
       "      <th>precio</th>\n",
       "      <th>precio_premium</th>\n",
       "      <th>precio_gasolina_95</th>\n",
       "      <th>diff_premium</th>\n",
       "      <th>ind_diff</th>\n",
       "      <th>ind_diff_sig</th>\n",
       "      <th>ind_24h</th>\n",
       "      <th>avg_cambios</th>\n",
       "      <th>...</th>\n",
       "      <th>low</th>\n",
       "      <th>settle</th>\n",
       "      <th>change</th>\n",
       "      <th>wave</th>\n",
       "      <th>volume</th>\n",
       "      <th>prev_day_open_interest</th>\n",
       "      <th>efp_volume</th>\n",
       "      <th>efs_volume</th>\n",
       "      <th>block_volume</th>\n",
       "      <th>fecha_join</th>\n",
       "    </tr>\n",
       "  </thead>\n",
       "  <tbody>\n",
       "    <tr>\n",
       "      <th>0</th>\n",
       "      <td>2017-12-20</td>\n",
       "      <td>14</td>\n",
       "      <td>1.189453</td>\n",
       "      <td>1.239258</td>\n",
       "      <td>1.289062</td>\n",
       "      <td>50.0</td>\n",
       "      <td>NaN</td>\n",
       "      <td>0.0</td>\n",
       "      <td>1</td>\n",
       "      <td>0.0</td>\n",
       "      <td>...</td>\n",
       "      <td>63.3125</td>\n",
       "      <td>63.8125</td>\n",
       "      <td>0.389893</td>\n",
       "      <td>63.65625</td>\n",
       "      <td>205423.0</td>\n",
       "      <td>260457.0</td>\n",
       "      <td>1807.0</td>\n",
       "      <td>NaN</td>\n",
       "      <td>5960.0</td>\n",
       "      <td>2017-12-20</td>\n",
       "    </tr>\n",
       "    <tr>\n",
       "      <th>1</th>\n",
       "      <td>2017-12-20</td>\n",
       "      <td>15</td>\n",
       "      <td>1.189453</td>\n",
       "      <td>1.239258</td>\n",
       "      <td>1.289062</td>\n",
       "      <td>50.0</td>\n",
       "      <td>0.0</td>\n",
       "      <td>0.0</td>\n",
       "      <td>1</td>\n",
       "      <td>0.0</td>\n",
       "      <td>...</td>\n",
       "      <td>63.3125</td>\n",
       "      <td>63.8125</td>\n",
       "      <td>0.389893</td>\n",
       "      <td>63.65625</td>\n",
       "      <td>205423.0</td>\n",
       "      <td>260457.0</td>\n",
       "      <td>1807.0</td>\n",
       "      <td>NaN</td>\n",
       "      <td>5960.0</td>\n",
       "      <td>2017-12-20</td>\n",
       "    </tr>\n",
       "    <tr>\n",
       "      <th>2</th>\n",
       "      <td>2017-12-20</td>\n",
       "      <td>16</td>\n",
       "      <td>1.189453</td>\n",
       "      <td>1.239258</td>\n",
       "      <td>1.289062</td>\n",
       "      <td>50.0</td>\n",
       "      <td>0.0</td>\n",
       "      <td>0.0</td>\n",
       "      <td>1</td>\n",
       "      <td>0.0</td>\n",
       "      <td>...</td>\n",
       "      <td>63.3125</td>\n",
       "      <td>63.8125</td>\n",
       "      <td>0.389893</td>\n",
       "      <td>63.65625</td>\n",
       "      <td>205423.0</td>\n",
       "      <td>260457.0</td>\n",
       "      <td>1807.0</td>\n",
       "      <td>NaN</td>\n",
       "      <td>5960.0</td>\n",
       "      <td>2017-12-20</td>\n",
       "    </tr>\n",
       "    <tr>\n",
       "      <th>3</th>\n",
       "      <td>2017-12-20</td>\n",
       "      <td>17</td>\n",
       "      <td>1.189453</td>\n",
       "      <td>1.239258</td>\n",
       "      <td>1.289062</td>\n",
       "      <td>50.0</td>\n",
       "      <td>0.0</td>\n",
       "      <td>0.0</td>\n",
       "      <td>1</td>\n",
       "      <td>0.0</td>\n",
       "      <td>...</td>\n",
       "      <td>63.3125</td>\n",
       "      <td>63.8125</td>\n",
       "      <td>0.389893</td>\n",
       "      <td>63.65625</td>\n",
       "      <td>205423.0</td>\n",
       "      <td>260457.0</td>\n",
       "      <td>1807.0</td>\n",
       "      <td>NaN</td>\n",
       "      <td>5960.0</td>\n",
       "      <td>2017-12-20</td>\n",
       "    </tr>\n",
       "    <tr>\n",
       "      <th>4</th>\n",
       "      <td>2017-12-20</td>\n",
       "      <td>18</td>\n",
       "      <td>1.189453</td>\n",
       "      <td>1.239258</td>\n",
       "      <td>1.289062</td>\n",
       "      <td>50.0</td>\n",
       "      <td>0.0</td>\n",
       "      <td>0.0</td>\n",
       "      <td>1</td>\n",
       "      <td>0.0</td>\n",
       "      <td>...</td>\n",
       "      <td>63.3125</td>\n",
       "      <td>63.8125</td>\n",
       "      <td>0.389893</td>\n",
       "      <td>63.65625</td>\n",
       "      <td>205423.0</td>\n",
       "      <td>260457.0</td>\n",
       "      <td>1807.0</td>\n",
       "      <td>NaN</td>\n",
       "      <td>5960.0</td>\n",
       "      <td>2017-12-20</td>\n",
       "    </tr>\n",
       "  </tbody>\n",
       "</table>\n",
       "<p>5 rows × 24 columns</p>\n",
       "</div>"
      ],
      "text/plain": [
       "         dia  hora    precio  precio_premium  precio_gasolina_95  \\\n",
       "0 2017-12-20    14  1.189453        1.239258            1.289062   \n",
       "1 2017-12-20    15  1.189453        1.239258            1.289062   \n",
       "2 2017-12-20    16  1.189453        1.239258            1.289062   \n",
       "3 2017-12-20    17  1.189453        1.239258            1.289062   \n",
       "4 2017-12-20    18  1.189453        1.239258            1.289062   \n",
       "\n",
       "   diff_premium  ind_diff  ind_diff_sig ind_24h  avg_cambios     ...      \\\n",
       "0          50.0       NaN           0.0       1          0.0     ...       \n",
       "1          50.0       0.0           0.0       1          0.0     ...       \n",
       "2          50.0       0.0           0.0       1          0.0     ...       \n",
       "3          50.0       0.0           0.0       1          0.0     ...       \n",
       "4          50.0       0.0           0.0       1          0.0     ...       \n",
       "\n",
       "       low   settle    change      wave    volume  prev_day_open_interest  \\\n",
       "0  63.3125  63.8125  0.389893  63.65625  205423.0                260457.0   \n",
       "1  63.3125  63.8125  0.389893  63.65625  205423.0                260457.0   \n",
       "2  63.3125  63.8125  0.389893  63.65625  205423.0                260457.0   \n",
       "3  63.3125  63.8125  0.389893  63.65625  205423.0                260457.0   \n",
       "4  63.3125  63.8125  0.389893  63.65625  205423.0                260457.0   \n",
       "\n",
       "   efp_volume  efs_volume  block_volume  fecha_join  \n",
       "0      1807.0         NaN        5960.0  2017-12-20  \n",
       "1      1807.0         NaN        5960.0  2017-12-20  \n",
       "2      1807.0         NaN        5960.0  2017-12-20  \n",
       "3      1807.0         NaN        5960.0  2017-12-20  \n",
       "4      1807.0         NaN        5960.0  2017-12-20  \n",
       "\n",
       "[5 rows x 24 columns]"
      ]
     },
     "execution_count": 93,
     "metadata": {},
     "output_type": "execute_result"
    }
   ],
   "source": [
    "precios_diesel_brent_df.head()"
   ]
  },
  {
   "cell_type": "code",
   "execution_count": 94,
   "metadata": {},
   "outputs": [],
   "source": [
    "# Then we'll do the same with the resulting dataframe and the fx EUR/USD dataframe\n",
    "precios_diesel_brent_eurusd_df = precios_diesel_brent_df.merge(right=precios_eurusd_df, how='left', left_on=[\"fecha_join\"], right_on=[\"fecha_join\"])"
   ]
  },
  {
   "cell_type": "code",
   "execution_count": 95,
   "metadata": {},
   "outputs": [
    {
     "data": {
      "text/html": [
       "<div>\n",
       "<style scoped>\n",
       "    .dataframe tbody tr th:only-of-type {\n",
       "        vertical-align: middle;\n",
       "    }\n",
       "\n",
       "    .dataframe tbody tr th {\n",
       "        vertical-align: top;\n",
       "    }\n",
       "\n",
       "    .dataframe thead th {\n",
       "        text-align: right;\n",
       "    }\n",
       "</style>\n",
       "<table border=\"1\" class=\"dataframe\">\n",
       "  <thead>\n",
       "    <tr style=\"text-align: right;\">\n",
       "      <th></th>\n",
       "      <th>dia</th>\n",
       "      <th>hora</th>\n",
       "      <th>precio</th>\n",
       "      <th>precio_premium</th>\n",
       "      <th>precio_gasolina_95</th>\n",
       "      <th>diff_premium</th>\n",
       "      <th>ind_diff</th>\n",
       "      <th>ind_diff_sig</th>\n",
       "      <th>ind_24h</th>\n",
       "      <th>avg_cambios</th>\n",
       "      <th>...</th>\n",
       "      <th>change</th>\n",
       "      <th>wave</th>\n",
       "      <th>volume</th>\n",
       "      <th>prev_day_open_interest</th>\n",
       "      <th>efp_volume</th>\n",
       "      <th>efs_volume</th>\n",
       "      <th>block_volume</th>\n",
       "      <th>fecha_join</th>\n",
       "      <th>fecha_y</th>\n",
       "      <th>eur_usd</th>\n",
       "    </tr>\n",
       "  </thead>\n",
       "  <tbody>\n",
       "    <tr>\n",
       "      <th>0</th>\n",
       "      <td>2017-12-20</td>\n",
       "      <td>14</td>\n",
       "      <td>1.189453</td>\n",
       "      <td>1.239258</td>\n",
       "      <td>1.289062</td>\n",
       "      <td>50.0</td>\n",
       "      <td>NaN</td>\n",
       "      <td>0.0</td>\n",
       "      <td>1</td>\n",
       "      <td>0.0</td>\n",
       "      <td>...</td>\n",
       "      <td>0.389893</td>\n",
       "      <td>63.65625</td>\n",
       "      <td>205423.0</td>\n",
       "      <td>260457.0</td>\n",
       "      <td>1807.0</td>\n",
       "      <td>NaN</td>\n",
       "      <td>5960.0</td>\n",
       "      <td>2017-12-20</td>\n",
       "      <td>2017-12-19</td>\n",
       "      <td>1.1838</td>\n",
       "    </tr>\n",
       "    <tr>\n",
       "      <th>1</th>\n",
       "      <td>2017-12-20</td>\n",
       "      <td>15</td>\n",
       "      <td>1.189453</td>\n",
       "      <td>1.239258</td>\n",
       "      <td>1.289062</td>\n",
       "      <td>50.0</td>\n",
       "      <td>0.0</td>\n",
       "      <td>0.0</td>\n",
       "      <td>1</td>\n",
       "      <td>0.0</td>\n",
       "      <td>...</td>\n",
       "      <td>0.389893</td>\n",
       "      <td>63.65625</td>\n",
       "      <td>205423.0</td>\n",
       "      <td>260457.0</td>\n",
       "      <td>1807.0</td>\n",
       "      <td>NaN</td>\n",
       "      <td>5960.0</td>\n",
       "      <td>2017-12-20</td>\n",
       "      <td>2017-12-19</td>\n",
       "      <td>1.1838</td>\n",
       "    </tr>\n",
       "    <tr>\n",
       "      <th>2</th>\n",
       "      <td>2017-12-20</td>\n",
       "      <td>16</td>\n",
       "      <td>1.189453</td>\n",
       "      <td>1.239258</td>\n",
       "      <td>1.289062</td>\n",
       "      <td>50.0</td>\n",
       "      <td>0.0</td>\n",
       "      <td>0.0</td>\n",
       "      <td>1</td>\n",
       "      <td>0.0</td>\n",
       "      <td>...</td>\n",
       "      <td>0.389893</td>\n",
       "      <td>63.65625</td>\n",
       "      <td>205423.0</td>\n",
       "      <td>260457.0</td>\n",
       "      <td>1807.0</td>\n",
       "      <td>NaN</td>\n",
       "      <td>5960.0</td>\n",
       "      <td>2017-12-20</td>\n",
       "      <td>2017-12-19</td>\n",
       "      <td>1.1838</td>\n",
       "    </tr>\n",
       "  </tbody>\n",
       "</table>\n",
       "<p>3 rows × 26 columns</p>\n",
       "</div>"
      ],
      "text/plain": [
       "         dia  hora    precio  precio_premium  precio_gasolina_95  \\\n",
       "0 2017-12-20    14  1.189453        1.239258            1.289062   \n",
       "1 2017-12-20    15  1.189453        1.239258            1.289062   \n",
       "2 2017-12-20    16  1.189453        1.239258            1.289062   \n",
       "\n",
       "   diff_premium  ind_diff  ind_diff_sig ind_24h  avg_cambios   ...     \\\n",
       "0          50.0       NaN           0.0       1          0.0   ...      \n",
       "1          50.0       0.0           0.0       1          0.0   ...      \n",
       "2          50.0       0.0           0.0       1          0.0   ...      \n",
       "\n",
       "     change      wave    volume  prev_day_open_interest  efp_volume  \\\n",
       "0  0.389893  63.65625  205423.0                260457.0      1807.0   \n",
       "1  0.389893  63.65625  205423.0                260457.0      1807.0   \n",
       "2  0.389893  63.65625  205423.0                260457.0      1807.0   \n",
       "\n",
       "   efs_volume  block_volume  fecha_join    fecha_y  eur_usd  \n",
       "0         NaN        5960.0  2017-12-20 2017-12-19   1.1838  \n",
       "1         NaN        5960.0  2017-12-20 2017-12-19   1.1838  \n",
       "2         NaN        5960.0  2017-12-20 2017-12-19   1.1838  \n",
       "\n",
       "[3 rows x 26 columns]"
      ]
     },
     "execution_count": 95,
     "metadata": {},
     "output_type": "execute_result"
    }
   ],
   "source": [
    "precios_diesel_brent_eurusd_df.head(3)"
   ]
  },
  {
   "cell_type": "markdown",
   "metadata": {},
   "source": [
    "Ahora que ya tenemos los tres dataframe unidos, aprovechamos para visualizar el tipo de cambio en combinación con el precio del diesel y el settle del Brent."
   ]
  },
  {
   "cell_type": "code",
   "execution_count": 96,
   "metadata": {},
   "outputs": [
    {
     "data": {
      "image/png": "[encoded data removed]",
      "text/plain": [
       "<matplotlib.figure.Figure at 0x2507fb5c400>"
      ]
     },
     "metadata": {},
     "output_type": "display_data"
    }
   ],
   "source": [
    "columns = [\"eur_usd\",\"precio\",\"settle\"]\n",
    "\n",
    "plt.figure()\n",
    "for idx,col in enumerate(columns):\n",
    "    plt.subplot(len(columns),1,idx+1)\n",
    "    plt.plot(precios_diesel_brent_eurusd_df[col].values)\n",
    "    plt.title(col, y=0.7, loc='left')\n",
    "plt.xlabel(\"tiempo (horas)\")\n",
    "plt.tight_layout()\n",
    "plt.show()"
   ]
  },
  {
   "cell_type": "markdown",
   "metadata": {},
   "source": [
    "Finalmente daremos un par de retoques al dataframe final situando la columna label al final del mismo y deshaciéndonos de aquellas features auxiliares que se han utilizado para unir los dataframes."
   ]
  },
  {
   "cell_type": "code",
   "execution_count": 97,
   "metadata": {},
   "outputs": [],
   "source": [
    "drop_list = ['dia','hora','fecha_x','fecha_y','fecha_join','ind_24h']\n",
    "\n",
    "precios_diesel_brent_eurusd_df.drop(columns=drop_list,inplace=True)"
   ]
  },
  {
   "cell_type": "code",
   "execution_count": 98,
   "metadata": {},
   "outputs": [],
   "source": [
    "precios_diesel_brent_eurusd_df = precios_diesel_brent_eurusd_df[[c for c in precios_diesel_brent_eurusd_df if c not in ['precio_sig']] + ['precio_sig']]"
   ]
  },
  {
   "cell_type": "markdown",
   "metadata": {},
   "source": [
    "Nos guardaremos la cabecera de nuestro dataframe final (que contiene los nombres de las features y del label)"
   ]
  },
  {
   "cell_type": "code",
   "execution_count": 99,
   "metadata": {},
   "outputs": [],
   "source": [
    "feature_columns = precios_diesel_brent_eurusd_df.columns"
   ]
  },
  {
   "cell_type": "markdown",
   "metadata": {},
   "source": [
    "### División del dataframe `precios_diesel_brent_eurusd_df` en conjuntos de `train` y `test`\n",
    "El tamaño de las series temporales para cada gasolinera no permite poder dividir entre train, validation y test. Así que de cara a esta prueba nos conformamos con train y test."
   ]
  },
  {
   "cell_type": "code",
   "execution_count": 102,
   "metadata": {},
   "outputs": [],
   "source": [
    "total_size = len(precios_diesel_brent_eurusd_df)\n",
    "train_size = np.ceil(total_size * 0.75).astype(int)"
   ]
  },
  {
   "cell_type": "code",
   "execution_count": 103,
   "metadata": {},
   "outputs": [],
   "source": [
    "precios_values = precios_diesel_brent_eurusd_df.values\n",
    "train_set = precios_values[:train_size, :]\n",
    "test_set = precios_values[train_size:, :]"
   ]
  },
  {
   "cell_type": "code",
   "execution_count": 104,
   "metadata": {},
   "outputs": [
    {
     "name": "stdout",
     "output_type": "stream",
     "text": [
      "Training set con 481 ejemplos \n",
      "Test set con 160 ejemplos \n"
     ]
    }
   ],
   "source": [
    "print(\"Training set con %s ejemplos \" % len(train_set))\n",
    "print(\"Test set con %s ejemplos \" % len(test_set))"
   ]
  },
  {
   "cell_type": "code",
   "execution_count": 105,
   "metadata": {},
   "outputs": [],
   "source": [
    "TRAIN_FILE=DATASET_DIR + PRECIO_DIESEL_DATASET_DIR + \"\\\\train_set.csv\"\n",
    "TEST_FILE=DATASET_DIR + PRECIO_DIESEL_DATASET_DIR + \"\\\\test_set.csv\"\n",
    "# There is no pred_set, however we keep the definition in case\n",
    "# it may be used later.\n",
    "PRED_FILE=DATASET_DIR + PRECIO_DIESEL_DATASET_DIR + \"\\\\pred_set.csv\""
   ]
  },
  {
   "cell_type": "markdown",
   "metadata": {},
   "source": [
    "Finalmente guardamos nuestros dataframe de `train` y `test`"
   ]
  },
  {
   "cell_type": "code",
   "execution_count": 107,
   "metadata": {},
   "outputs": [],
   "source": [
    "pd.DataFrame(data=train_set,columns=feature_columns).to_csv(TRAIN_FILE, sep=\"|\", index=False)\n",
    "pd.DataFrame(data=test_set,columns=feature_columns).to_csv(TEST_FILE, sep=\"|\", index=False)"
   ]
  },
  {
   "cell_type": "markdown",
   "metadata": {},
   "source": [
    "### Tensorflow: Dataset API y Estimator API\n",
    "Ahora es el momento de arrancar con la parte de Tensorflow, lo primero será definir la función que se encargará de cargar y suministrar batches de registros al modelo que más tarde definiremos."
   ]
  },
  {
   "cell_type": "code",
   "execution_count": 122,
   "metadata": {},
   "outputs": [
    {
     "data": {
      "text/plain": [
       "\"\\nfeature_columns = ['precio', 'precio_premium', 'precio_gasolina_95', 'diff_premium',       'ind_diff', 'ind_diff_sig', 'avg_cambios', 'open', 'high', 'low',       'settle', 'change', 'wave', 'volume', 'prev_day_open_interest',       'efp_volume', 'efs_volume', 'block_volume', 'eur_usd', 'precio_sig']\\n\""
      ]
     },
     "execution_count": 122,
     "metadata": {},
     "output_type": "execute_result"
    }
   ],
   "source": [
    "# In case rerrunning is necessary, remove comments from below and start running from here\n",
    "\"\"\"\n",
    "feature_columns = ['precio', 'precio_premium', 'precio_gasolina_95', 'diff_premium',\\\n",
    "       'ind_diff', 'ind_diff_sig', 'avg_cambios', 'open', 'high', 'low',\\\n",
    "       'settle', 'change', 'wave', 'volume', 'prev_day_open_interest',\\\n",
    "       'efp_volume', 'efs_volume', 'block_volume', 'eur_usd', 'precio_sig']\n",
    "\"\"\""
   ]
  },
  {
   "cell_type": "code",
   "execution_count": 108,
   "metadata": {},
   "outputs": [],
   "source": [
    "import tensorflow as tf"
   ]
  },
  {
   "cell_type": "code",
   "execution_count": 116,
   "metadata": {},
   "outputs": [
    {
     "name": "stdout",
     "output_type": "stream",
     "text": [
      "1.4.0\n"
     ]
    }
   ],
   "source": [
    "print(tf.__version__)"
   ]
  },
  {
   "cell_type": "code",
   "execution_count": 109,
   "metadata": {},
   "outputs": [],
   "source": [
    "def dataset_input_fn(file_path, feature_names, batch_size=48, repeat_count=1):\n",
    "    \"\"\"\n",
    "    This function will load the train dataset file and provide with batches of records \n",
    "    the Estimator API model based.\n",
    "    Args:\n",
    "        - file_path: the path to the training dataset file.\n",
    "        - feature_names: a list containing the names of the features and the label.\n",
    "        - batch_size: the number of records that will be fed to the model in each step.\n",
    "        - repeat_count: the number of epochs (iterations over the whole dataset) that will done. This \n",
    "        parameter does not work when used with a customized estimator\n",
    "    Returns:\n",
    "        - input_fn: the function that will be invoked to feed the batches to the model.\n",
    "    \"\"\"\n",
    "    def input_fn():\n",
    "        \"\"\"\n",
    "        This function takes care of performing functionality such as decoding each line and \n",
    "        checking and filling empty feature values with defaults.\n",
    "        \n",
    "        Returns:\n",
    "            - batch_features: feature values for the current batch.\n",
    "            - label_features: label values for the current batch.\n",
    "        \"\"\"\n",
    "        #feature_names = ['precio','precio_premium','precio_gasolina_95','diff_premium','ind_diff','ind_diff_sig','avg_cambios','open','high','low','settle','change','wave','volume','prev_day_open_interest','efp_volume','efs_volume','block_volume','eur_usd','precio_sig']\n",
    "        def has_target(line):\n",
    "            \"\"\"\n",
    "            This is an auxiliar function used to filter out those\n",
    "            lines that do not have a label (is either missing or NaN)\n",
    "            Args:\n",
    "                - line: a record from the file loaded with the Dataset API.\n",
    "                \n",
    "            Returns:\n",
    "                - boolean type: True if the line has a label, False if it does not.\n",
    "            \"\"\"\n",
    "            feat_values = tf.string_split([line,],delimiter=\"|\",skip_empty=False).values\n",
    "            target_index = tf.size(feat_values) - 1\n",
    "            empty_target = tf.equal(feat_values[target_index], '')\n",
    "\n",
    "            if empty_target is True:\n",
    "                return False\n",
    "            else:\n",
    "                return True\n",
    "\n",
    "        def decode_csv(line):\n",
    "            \"\"\"\n",
    "            This funcion is used to split each line by the indicated separator\n",
    "            and also fill up the NaN/missing values with some predefined defaults that\n",
    "            have been carefully chosen form a previous study of the data.\n",
    "            Args:\n",
    "                - line: a record from the file loaded with the Dataset API.\n",
    "            Returns:\n",
    "                - tuple type: in which the first element will be a dictionary where the keys are the \n",
    "                feature names and the values are the feature values. The other element of the tuple is \n",
    "                the label.                \n",
    "            \"\"\"\n",
    "            parsed_line = tf.decode_csv(line,\\\n",
    "                                        [[1.169],[1.2432],[1.2588],[60.0],[0.0],[0.0],[0.0],[44.375],[45.25],[43.5],[44.438],[0.059998],[49.812],[42414.0],[80780.0],[1745.0],[868.0],[2392.0],[1.16215],[1.169]],\\\n",
    "                                        field_delim=\"|\")\n",
    "            label = parsed_line[-1:]\n",
    "            del parsed_line[-1]\n",
    "            features = parsed_line\n",
    "            d = dict(zip(feature_names, features)), label\n",
    "\n",
    "            return d\n",
    "        \n",
    "        imputed_dataset = (tf.data.TextLineDataset(file_path).skip(1).filter(has_target).map(decode_csv))\n",
    "\n",
    "        imputed_dataset = imputed_dataset.repeat(repeat_count)\n",
    "        imputed_dataset = imputed_dataset.batch(batch_size)\n",
    "\n",
    "        batch_features, batch_labels = imputed_dataset.make_one_shot_iterator().get_next()\n",
    "        return batch_features, batch_labels\n",
    "    return input_fn\n"
   ]
  },
  {
   "cell_type": "markdown",
   "metadata": {},
   "source": [
    "La [API dataset](https://www.tensorflow.org/programmers_guide/datasets) de Tensorflow nos ha permitido definir una función para cargar nuestro dataset e irlo alimentando por medio de batches al modelo. Ahora es momento de definir nuestro modelo ya que tensorflow no proporciona un estimator out of the box para problemas de series temporales."
   ]
  },
  {
   "cell_type": "code",
   "execution_count": 110,
   "metadata": {},
   "outputs": [],
   "source": [
    "# Number of LSTM units in the LSTM cell (which is the equivalent to a layer)\n",
    "LSTM_SIZE = 30\n",
    "# Number of labels.\n",
    "N_OUTPUTS=1\n",
    "# Number of input features.\n",
    "N_INPUTS=len(feature_columns) - N_OUTPUTS\n",
    "\n",
    "\"\"\"\n",
    "This functions enables us to define our own model, more accurately, our own Estimator\n",
    "since Tensorflow does not provide in its current version (1.5) a pre made RNN estimator.\n",
    "Args:\n",
    "    - features: this parameter is used to feed the features to the model.\n",
    "    - labels: this parameter is used to feed the labels to the model.\n",
    "    - mode: this parameter determines the execution mode (TRAIN, EVAL and PREDICT)\n",
    "    \n",
    "Returns:\n",
    "    - The specifications that fully define the model to be run by an estimator. They must be\n",
    "    defined for each of the modes (TRAIN, EVAL and PREDICT).\n",
    "\"\"\"\n",
    "def model_fn(features, labels, mode):\n",
    "    feature_list = []\n",
    "    # Each tensor is expanded so it can allocate each batch as n_examples x 1 (since each feature will be a single number)\n",
    "    for feat,tensor in features.items():\n",
    "        feature_list += [tf.reshape(tensor,[-1,1])]\n",
    "        \n",
    "    # The model architecture is defined.\n",
    "    lstm_cell = tf.nn.rnn_cell.LSTMCell(LSTM_SIZE, forget_bias=1.0)\n",
    "    outputs, _ = tf.nn.static_rnn(lstm_cell, feature_list, dtype=tf.float32)\n",
    "    \n",
    "    # The last element of the output is the one we want\n",
    "    outputs = outputs[-1]\n",
    "    \n",
    "    # Predictions are calculated, we firstly define the weight and bias\n",
    "    # which are the parameters the model will tweak to improve its loss.\n",
    "    weight = tf.Variable(tf.random_normal([LSTM_SIZE, N_OUTPUTS]))\n",
    "    bias = tf.Variable(tf.random_normal([N_OUTPUTS]))\n",
    "    predictions = tf.matmul(outputs, weight) + bias\n",
    "    \n",
    "    # loss function, training/eval ops are defined\n",
    "    if mode == tf.estimator.ModeKeys.TRAIN or mode == tf.estimator.ModeKeys.EVAL:\n",
    "        loss = tf.losses.mean_squared_error(labels, predictions)\n",
    "        optimizer = tf.train.AdamOptimizer(learning_rate=1e-4)\n",
    "        train_op = optimizer.minimize(loss,tf.train.get_or_create_global_step())\n",
    "        eval_metric_ops = {\n",
    "            \"rmse\": tf.metrics.root_mean_squared_error(labels, predictions)\n",
    "         }\n",
    "    else:\n",
    "        loss = None\n",
    "        train_op = None\n",
    "        eval_metric_ops = None\n",
    "        \n",
    "    predictions_dict = {\"predicted\": predictions}\n",
    "    \n",
    "    return tf.estimator.EstimatorSpec(mode=mode,\\\n",
    "                                      predictions=predictions_dict,\\\n",
    "                                      loss=loss,\\\n",
    "                                      train_op=train_op,\\\n",
    "                                      eval_metric_ops=eval_metric_ops,\\\n",
    "                                      export_outputs={'classes':tf.estimator.export.PredictOutput(predictions_dict)})"
   ]
  },
  {
   "cell_type": "markdown",
   "metadata": {},
   "source": [
    "La [API estimator](https://www.tensorflow.org/get_started/custom_estimators) nos ha permitido definir una nuestro propio modelo a través de una función. Vemos que no solo consiste en en definir el modelo sino en especificar las operaciones propias de cada modo de ejecución TRAIN, EVAL y PREDICT.\n",
    "Ahora es el momento de definir la estructura que recibirá las features de entrada: el `ServingInputReceiver`, se puede pensar en él como un diccionario de tensores que proporcionará el espacio necesario donde almacenar las features que se le pasarán al modelo."
   ]
  },
  {
   "cell_type": "code",
   "execution_count": 111,
   "metadata": {},
   "outputs": [],
   "source": [
    "def serving_input_fn():\n",
    "    \"\"\"\n",
    "    This function is intended to provide some kind of dictionary in\n",
    "    which each input feature (note that the label is not included here) is \n",
    "    associated with a please where the values associated to each feature will \n",
    "    be allocated before being fed to the model.\n",
    "    Returns\n",
    "        - ServingInputReceiver: the structure associating each feature with its\n",
    "        corresponding placeholder.\n",
    "    \"\"\"\n",
    "    feature_placeholders = {}\n",
    "    for i in range(len(feature_columns)-1):\n",
    "        feature_placeholders[feature_columns[i]] = tf.placeholder(tf.float32, [None])\n",
    "    \"\"\"\n",
    "    This code is listed here just for information\n",
    "    \n",
    "    feature_placeholders = {\n",
    "        'precio': tf.placeholder(tf.float32, [None]),\n",
    "        'precio_premium': tf.placeholder(tf.float32, [None]),\n",
    "        'precio_gasolina_95': tf.placeholder(tf.float32, [None]),        \n",
    "        'diff_premium': tf.placeholder(tf.float32, [None]),\n",
    "        'ind_diff': tf.placeholder(tf.float32, [None]),\n",
    "        'ind_diff_sig': tf.placeholder(tf.float32, [None]),\n",
    "        'avg_cambios': tf.placeholder(tf.float32, [None]),\n",
    "        'open': tf.placeholder(tf.float32, [None]),\n",
    "        'high': tf.placeholder(tf.float32, [None]),\n",
    "        'low': tf.placeholder(tf.float32, [None]),\n",
    "        'settle': tf.placeholder(tf.float32, [None]),\n",
    "        'change': tf.placeholder(tf.float32, [None]),\n",
    "        'wave': tf.placeholder(tf.float32, [None]),\n",
    "        'volume': tf.placeholder(tf.float32, [None]),\n",
    "        'prev_day_open_interest': tf.placeholder(tf.float32, [None]),\n",
    "        'efp_volume': tf.placeholder(tf.float32, [None]),\n",
    "        'efs_volume': tf.placeholder(tf.float32, [None]),\n",
    "        'block_volume': tf.placeholder(tf.float32, [None]),\n",
    "        'eur_usd': tf.placeholder(tf.float32, [None])              \n",
    "    }\n",
    "    \"\"\"\n",
    "    features = {\n",
    "      key: tf.expand_dims(tensor, -1)\n",
    "      for key, tensor in feature_placeholders.items()\n",
    "    }\n",
    "    \n",
    "    return tf.estimator.export.ServingInputReceiver(\n",
    "      features,      \n",
    "      feature_placeholders\n",
    "    )"
   ]
  },
  {
   "cell_type": "code",
   "execution_count": 112,
   "metadata": {},
   "outputs": [],
   "source": [
    "# We use this library to delete the whole directory containing\n",
    "# previous checkpoints and graphs\n",
    "import shutil"
   ]
  },
  {
   "cell_type": "markdown",
   "metadata": {},
   "source": [
    "En el siguiente código destaca `tf.estimator.Estimator` que recibirá la función `model_fn` definida previamente y que nos devuelve el EstimatorSpec en el que se encapsula lo necesario para poder realizar entrenamiento, evaluación o predicciones sobre el modelo.\n",
    "También hay que destacar el `tf.estimator.LatestExporter` que se encarga de exportar regularmente los checkpoints y el grafo de nuestro modelo, para posteriormente poder ejecutar la predicción sobre el o continuar el entrenamiento a partir de un determinado checkpoint.\n",
    "Finalmente `tf.estimator.train_and_evaluate` permite entrenar y evaluar el modelo de acuerdo con las especificaciones que hayamos definido mediante `tf.estimator.TrainSpec` y `tf.estimator.EvalSpec`.\n",
    "Nota: al utilizar `tf.estimator.TrainSpec`, el valor de `max_steps` a través del cual se define el número de steps de entrenamiento anulará cualquier valor que hayamos especificado en nuestra función `dataset_input_fn` para `repeat_count`. Si no especificamos `max_steps` el entrenamiento se ejecutará indefinidamente. En resumidas cuentas `repeat_count` no tiene efecto alguno."
   ]
  },
  {
   "cell_type": "code",
   "execution_count": 117,
   "metadata": {
    "scrolled": true
   },
   "outputs": [
    {
     "name": "stdout",
     "output_type": "stream",
     "text": [
      "INFO:tensorflow:Using config: {'_keep_checkpoint_every_n_hours': 10000, '_tf_random_seed': None, '_num_worker_replicas': 1, '_task_id': 0, '_master': '', '_log_step_count_steps': 100, '_num_ps_replicas': 0, '_model_dir': 'C:\\\\Cursos\\\\DeepLearning_TF-master\\\\models', '_keep_checkpoint_max': 5, '_is_chief': True, '_save_checkpoints_steps': 10, '_task_type': 'worker', '_session_config': None, '_service': None, '_save_checkpoints_secs': None, '_cluster_spec': <tensorflow.python.training.server_lib.ClusterSpec object at 0x000002508A4F3908>, '_save_summary_steps': 100}\n",
      "INFO:tensorflow:Running training and evaluation locally (non-distributed).\n",
      "INFO:tensorflow:Start train and evaluate loop. The evaluate will happen after 600 secs (eval_spec.throttle_secs) or training is finished.\n",
      "INFO:tensorflow:Create CheckpointSaverHook.\n",
      "INFO:tensorflow:Saving checkpoints for 1 into C:\\Cursos\\DeepLearning_TF-master\\models\\model.ckpt.\n",
      "INFO:tensorflow:loss = 0.2876508, step = 1\n",
      "INFO:tensorflow:Saving checkpoints for 11 into C:\\Cursos\\DeepLearning_TF-master\\models\\model.ckpt.\n",
      "INFO:tensorflow:Loss for final step: 0.117147945.\n",
      "INFO:tensorflow:Starting evaluation at 2018-02-09-12:15:51\n",
      "INFO:tensorflow:Restoring parameters from C:\\Cursos\\DeepLearning_TF-master\\models\\model.ckpt-11\n",
      "INFO:tensorflow:Finished evaluation at 2018-02-09-12:15:53\n",
      "INFO:tensorflow:Saving dict for global step 11: global_step = 11, loss = 0.11602564, rmse = 0.3423904\n",
      "INFO:tensorflow:Restoring parameters from C:\\Cursos\\DeepLearning_TF-master\\models\\model.ckpt-11\n",
      "INFO:tensorflow:Assets added to graph.\n",
      "INFO:tensorflow:No assets to write.\n",
      "INFO:tensorflow:SavedModel written to: b\"C:\\\\Cursos\\\\DeepLearning_TF-master\\\\models\\\\export\\\\exporter\\\\temp-b'1518178554'\\\\saved_model.pb\"\n",
      "INFO:tensorflow:Create CheckpointSaverHook.\n",
      "INFO:tensorflow:Restoring parameters from C:\\Cursos\\DeepLearning_TF-master\\models\\model.ckpt-11\n",
      "INFO:tensorflow:Saving checkpoints for 12 into C:\\Cursos\\DeepLearning_TF-master\\models\\model.ckpt.\n",
      "INFO:tensorflow:loss = 0.13589717, step = 12\n",
      "INFO:tensorflow:Saving checkpoints for 22 into C:\\Cursos\\DeepLearning_TF-master\\models\\model.ckpt.\n",
      "INFO:tensorflow:Loss for final step: 0.036425777.\n",
      "INFO:tensorflow:Starting evaluation at 2018-02-09-12:16:24\n",
      "INFO:tensorflow:Restoring parameters from C:\\Cursos\\DeepLearning_TF-master\\models\\model.ckpt-22\n",
      "INFO:tensorflow:Finished evaluation at 2018-02-09-12:16:26\n",
      "INFO:tensorflow:Saving dict for global step 22: global_step = 22, loss = 0.035901073, rmse = 0.1912178\n",
      "INFO:tensorflow:Restoring parameters from C:\\Cursos\\DeepLearning_TF-master\\models\\model.ckpt-22\n",
      "INFO:tensorflow:Assets added to graph.\n",
      "INFO:tensorflow:No assets to write.\n",
      "INFO:tensorflow:SavedModel written to: b\"C:\\\\Cursos\\\\DeepLearning_TF-master\\\\models\\\\export\\\\exporter\\\\temp-b'1518178587'\\\\saved_model.pb\"\n",
      "INFO:tensorflow:Create CheckpointSaverHook.\n",
      "INFO:tensorflow:Restoring parameters from C:\\Cursos\\DeepLearning_TF-master\\models\\model.ckpt-22\n",
      "INFO:tensorflow:Saving checkpoints for 23 into C:\\Cursos\\DeepLearning_TF-master\\models\\model.ckpt.\n",
      "INFO:tensorflow:loss = 0.04784667, step = 23\n",
      "INFO:tensorflow:Saving checkpoints for 33 into C:\\Cursos\\DeepLearning_TF-master\\models\\model.ckpt.\n",
      "INFO:tensorflow:Loss for final step: 0.005039609.\n",
      "INFO:tensorflow:Starting evaluation at 2018-02-09-12:16:55\n",
      "INFO:tensorflow:Restoring parameters from C:\\Cursos\\DeepLearning_TF-master\\models\\model.ckpt-33\n",
      "INFO:tensorflow:Finished evaluation at 2018-02-09-12:16:57\n",
      "INFO:tensorflow:Saving dict for global step 33: global_step = 33, loss = 0.0053291894, rmse = 0.07473379\n",
      "INFO:tensorflow:Restoring parameters from C:\\Cursos\\DeepLearning_TF-master\\models\\model.ckpt-33\n",
      "INFO:tensorflow:Assets added to graph.\n",
      "INFO:tensorflow:No assets to write.\n",
      "INFO:tensorflow:SavedModel written to: b\"C:\\\\Cursos\\\\DeepLearning_TF-master\\\\models\\\\export\\\\exporter\\\\temp-b'1518178618'\\\\saved_model.pb\"\n",
      "INFO:tensorflow:Create CheckpointSaverHook.\n",
      "INFO:tensorflow:Restoring parameters from C:\\Cursos\\DeepLearning_TF-master\\models\\model.ckpt-33\n",
      "INFO:tensorflow:Saving checkpoints for 34 into C:\\Cursos\\DeepLearning_TF-master\\models\\model.ckpt.\n",
      "INFO:tensorflow:loss = 0.010486908, step = 34\n",
      "INFO:tensorflow:Saving checkpoints for 44 into C:\\Cursos\\DeepLearning_TF-master\\models\\model.ckpt.\n",
      "INFO:tensorflow:Loss for final step: 1.894175e-05.\n",
      "INFO:tensorflow:Starting evaluation at 2018-02-09-12:17:27\n",
      "INFO:tensorflow:Restoring parameters from C:\\Cursos\\DeepLearning_TF-master\\models\\model.ckpt-44\n",
      "INFO:tensorflow:Finished evaluation at 2018-02-09-12:17:30\n",
      "INFO:tensorflow:Saving dict for global step 44: global_step = 44, loss = 0.0003320751, rmse = 0.018768117\n",
      "INFO:tensorflow:Restoring parameters from C:\\Cursos\\DeepLearning_TF-master\\models\\model.ckpt-44\n",
      "INFO:tensorflow:Assets added to graph.\n",
      "INFO:tensorflow:No assets to write.\n",
      "INFO:tensorflow:SavedModel written to: b\"C:\\\\Cursos\\\\DeepLearning_TF-master\\\\models\\\\export\\\\exporter\\\\temp-b'1518178651'\\\\saved_model.pb\"\n",
      "INFO:tensorflow:Create CheckpointSaverHook.\n",
      "INFO:tensorflow:Restoring parameters from C:\\Cursos\\DeepLearning_TF-master\\models\\model.ckpt-44\n",
      "INFO:tensorflow:Saving checkpoints for 45 into C:\\Cursos\\DeepLearning_TF-master\\models\\model.ckpt.\n",
      "INFO:tensorflow:loss = 0.001048539, step = 45\n",
      "INFO:tensorflow:Saving checkpoints for 55 into C:\\Cursos\\DeepLearning_TF-master\\models\\model.ckpt.\n",
      "INFO:tensorflow:Loss for final step: 0.0012129279.\n",
      "INFO:tensorflow:Starting evaluation at 2018-02-09-12:18:00\n",
      "INFO:tensorflow:Restoring parameters from C:\\Cursos\\DeepLearning_TF-master\\models\\model.ckpt-55\n",
      "INFO:tensorflow:Finished evaluation at 2018-02-09-12:18:02\n",
      "INFO:tensorflow:Saving dict for global step 55: global_step = 55, loss = 0.0011422823, rmse = 0.032792788\n",
      "INFO:tensorflow:Restoring parameters from C:\\Cursos\\DeepLearning_TF-master\\models\\model.ckpt-55\n",
      "INFO:tensorflow:Assets added to graph.\n",
      "INFO:tensorflow:No assets to write.\n",
      "INFO:tensorflow:SavedModel written to: b\"C:\\\\Cursos\\\\DeepLearning_TF-master\\\\models\\\\export\\\\exporter\\\\temp-b'1518178682'\\\\saved_model.pb\"\n",
      "INFO:tensorflow:Create CheckpointSaverHook.\n",
      "INFO:tensorflow:Restoring parameters from C:\\Cursos\\DeepLearning_TF-master\\models\\model.ckpt-55\n",
      "INFO:tensorflow:Saving checkpoints for 56 into C:\\Cursos\\DeepLearning_TF-master\\models\\model.ckpt.\n",
      "INFO:tensorflow:loss = 0.000110953646, step = 56\n",
      "INFO:tensorflow:Saving checkpoints for 66 into C:\\Cursos\\DeepLearning_TF-master\\models\\model.ckpt.\n",
      "INFO:tensorflow:Loss for final step: 0.0012173076.\n",
      "INFO:tensorflow:Starting evaluation at 2018-02-09-12:18:28\n",
      "INFO:tensorflow:Restoring parameters from C:\\Cursos\\DeepLearning_TF-master\\models\\model.ckpt-66\n",
      "INFO:tensorflow:Finished evaluation at 2018-02-09-12:18:30\n",
      "INFO:tensorflow:Saving dict for global step 66: global_step = 66, loss = 0.0010455485, rmse = 0.031369925\n",
      "INFO:tensorflow:Restoring parameters from C:\\Cursos\\DeepLearning_TF-master\\models\\model.ckpt-66\n",
      "INFO:tensorflow:Assets added to graph.\n",
      "INFO:tensorflow:No assets to write.\n",
      "INFO:tensorflow:SavedModel written to: b\"C:\\\\Cursos\\\\DeepLearning_TF-master\\\\models\\\\export\\\\exporter\\\\temp-b'1518178711'\\\\saved_model.pb\"\n",
      "INFO:tensorflow:Create CheckpointSaverHook.\n",
      "INFO:tensorflow:Restoring parameters from C:\\Cursos\\DeepLearning_TF-master\\models\\model.ckpt-66\n",
      "INFO:tensorflow:Saving checkpoints for 67 into C:\\Cursos\\DeepLearning_TF-master\\models\\model.ckpt.\n",
      "INFO:tensorflow:loss = 0.00012663752, step = 67\n",
      "INFO:tensorflow:Saving checkpoints for 77 into C:\\Cursos\\DeepLearning_TF-master\\models\\model.ckpt.\n",
      "INFO:tensorflow:Loss for final step: 0.000560504.\n",
      "INFO:tensorflow:Starting evaluation at 2018-02-09-12:18:57\n",
      "INFO:tensorflow:Restoring parameters from C:\\Cursos\\DeepLearning_TF-master\\models\\model.ckpt-77\n",
      "INFO:tensorflow:Finished evaluation at 2018-02-09-12:18:59\n",
      "INFO:tensorflow:Saving dict for global step 77: global_step = 77, loss = 0.0005586378, rmse = 0.023104092\n",
      "INFO:tensorflow:Restoring parameters from C:\\Cursos\\DeepLearning_TF-master\\models\\model.ckpt-77\n",
      "INFO:tensorflow:Assets added to graph.\n",
      "INFO:tensorflow:No assets to write.\n",
      "INFO:tensorflow:SavedModel written to: b\"C:\\\\Cursos\\\\DeepLearning_TF-master\\\\models\\\\export\\\\exporter\\\\temp-b'1518178740'\\\\saved_model.pb\"\n",
      "INFO:tensorflow:Create CheckpointSaverHook.\n",
      "INFO:tensorflow:Restoring parameters from C:\\Cursos\\DeepLearning_TF-master\\models\\model.ckpt-77\n"
     ]
    },
    {
     "name": "stdout",
     "output_type": "stream",
     "text": [
      "INFO:tensorflow:Saving checkpoints for 78 into C:\\Cursos\\DeepLearning_TF-master\\models\\model.ckpt.\n",
      "INFO:tensorflow:loss = 0.00038406835, step = 78\n",
      "INFO:tensorflow:Saving checkpoints for 88 into C:\\Cursos\\DeepLearning_TF-master\\models\\model.ckpt.\n",
      "INFO:tensorflow:Loss for final step: 0.00020442491.\n",
      "INFO:tensorflow:Starting evaluation at 2018-02-09-12:19:26\n",
      "INFO:tensorflow:Restoring parameters from C:\\Cursos\\DeepLearning_TF-master\\models\\model.ckpt-88\n",
      "INFO:tensorflow:Finished evaluation at 2018-02-09-12:19:28\n",
      "INFO:tensorflow:Saving dict for global step 88: global_step = 88, loss = 0.0003651888, rmse = 0.019203747\n",
      "INFO:tensorflow:Restoring parameters from C:\\Cursos\\DeepLearning_TF-master\\models\\model.ckpt-88\n",
      "INFO:tensorflow:Assets added to graph.\n",
      "INFO:tensorflow:No assets to write.\n",
      "INFO:tensorflow:SavedModel written to: b\"C:\\\\Cursos\\\\DeepLearning_TF-master\\\\models\\\\export\\\\exporter\\\\temp-b'1518178769'\\\\saved_model.pb\"\n",
      "INFO:tensorflow:Create CheckpointSaverHook.\n",
      "INFO:tensorflow:Restoring parameters from C:\\Cursos\\DeepLearning_TF-master\\models\\model.ckpt-88\n",
      "INFO:tensorflow:Saving checkpoints for 89 into C:\\Cursos\\DeepLearning_TF-master\\models\\model.ckpt.\n",
      "INFO:tensorflow:loss = 0.0007623574, step = 89\n",
      "INFO:tensorflow:Saving checkpoints for 99 into C:\\Cursos\\DeepLearning_TF-master\\models\\model.ckpt.\n",
      "INFO:tensorflow:Loss for final step: 0.00011768268.\n",
      "INFO:tensorflow:Starting evaluation at 2018-02-09-12:19:54\n",
      "INFO:tensorflow:Restoring parameters from C:\\Cursos\\DeepLearning_TF-master\\models\\model.ckpt-99\n",
      "INFO:tensorflow:Finished evaluation at 2018-02-09-12:19:56\n",
      "INFO:tensorflow:Saving dict for global step 99: global_step = 99, loss = 0.00033588274, rmse = 0.018675346\n",
      "INFO:tensorflow:Restoring parameters from C:\\Cursos\\DeepLearning_TF-master\\models\\model.ckpt-99\n",
      "INFO:tensorflow:Assets added to graph.\n",
      "INFO:tensorflow:No assets to write.\n",
      "INFO:tensorflow:SavedModel written to: b\"C:\\\\Cursos\\\\DeepLearning_TF-master\\\\models\\\\export\\\\exporter\\\\temp-b'1518178797'\\\\saved_model.pb\"\n",
      "INFO:tensorflow:Create CheckpointSaverHook.\n",
      "INFO:tensorflow:Restoring parameters from C:\\Cursos\\DeepLearning_TF-master\\models\\model.ckpt-99\n",
      "INFO:tensorflow:Saving checkpoints for 100 into C:\\Cursos\\DeepLearning_TF-master\\models\\model.ckpt.\n",
      "INFO:tensorflow:loss = 0.0009205065, step = 100\n",
      "INFO:tensorflow:Loss for final step: 0.0009205065.\n",
      "INFO:tensorflow:Starting evaluation at 2018-02-09-12:20:19\n",
      "INFO:tensorflow:Restoring parameters from C:\\Cursos\\DeepLearning_TF-master\\models\\model.ckpt-100\n",
      "INFO:tensorflow:Finished evaluation at 2018-02-09-12:20:21\n",
      "INFO:tensorflow:Saving dict for global step 100: global_step = 100, loss = 0.0003350674, rmse = 0.018662246\n",
      "INFO:tensorflow:Restoring parameters from C:\\Cursos\\DeepLearning_TF-master\\models\\model.ckpt-100\n",
      "INFO:tensorflow:Assets added to graph.\n",
      "INFO:tensorflow:No assets to write.\n",
      "INFO:tensorflow:SavedModel written to: b\"C:\\\\Cursos\\\\DeepLearning_TF-master\\\\models\\\\export\\\\exporter\\\\temp-b'1518178822'\\\\saved_model.pb\"\n"
     ]
    }
   ],
   "source": [
    "training_config = tf.estimator.RunConfig(save_checkpoints_steps=10)\n",
    "hparams = None\n",
    "\n",
    "estimator = tf.estimator.Estimator(model_fn=model_fn,\\\n",
    "                                   model_dir=\"C:\\\\Cursos\\\\DeepLearning_TF-master\\\\models\",\\\n",
    "                                   config=training_config,\\\n",
    "                                    params=hparams)\n",
    "        \n",
    "train_spec = tf.estimator.TrainSpec(input_fn=dataset_input_fn(TRAIN_FILE, feature_columns), max_steps=100)\n",
    "exporter = tf.estimator.LatestExporter('exporter', serving_input_fn)\n",
    "eval_spec = tf.estimator.EvalSpec(input_fn=dataset_input_fn(TEST_FILE, feature_columns),\\\n",
    "                                 steps=None,\\\n",
    "                                 exporters=exporter)\n",
    "# start fresh each time deleting saved checkpoints and graphs\n",
    "shutil.rmtree(\"C:\\\\Cursos\\\\DeepLearning_TF-master\\\\models\\\\\", ignore_errors=True)\n",
    "tf.estimator.train_and_evaluate(estimator, train_spec, eval_spec)\n"
   ]
  },
  {
   "cell_type": "markdown",
   "metadata": {},
   "source": [
    "Finalmente, cuando se quiera hacer predicciones en base al modelo entrenado, usaremos el fichero pred.csv (que ya declaramos en la variable `PRED_FILE` y en cada línea introduciremos todas las features con las que hemos entrenado el modelo. Realizando a continuación la siguiente invocación:"
   ]
  },
  {
   "cell_type": "code",
   "execution_count": 119,
   "metadata": {},
   "outputs": [],
   "source": [
    "predictions = estimator.predict(input_fn=dataset_input_fn(PRED_FILE, feature_columns))"
   ]
  },
  {
   "cell_type": "code",
   "execution_count": 121,
   "metadata": {},
   "outputs": [
    {
     "name": "stdout",
     "output_type": "stream",
     "text": [
      "WARNING:tensorflow:Input graph does not contain a QueueRunner. That means predict yields forever. This is probably a mistake.\n",
      "INFO:tensorflow:Restoring parameters from C:\\Cursos\\DeepLearning_TF-master\\models\\model.ckpt-100\n",
      "[{'predicted': array([1.4148873], dtype=float32)}]\n"
     ]
    }
   ],
   "source": [
    "print(list(predictions))"
   ]
  },
  {
   "cell_type": "code",
   "execution_count": null,
   "metadata": {},
   "outputs": [],
   "source": []
  }
 ],
 "metadata": {
  "kernelspec": {
   "display_name": "Environment (conda_py35tf14)",
   "language": "python",
   "name": "conda_py35tf14"
  }
 },
 "nbformat": 4,
 "nbformat_minor": 2
}
